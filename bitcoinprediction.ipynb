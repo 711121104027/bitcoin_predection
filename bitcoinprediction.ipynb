{
 "cells": [
  {
   "cell_type": "code",
   "execution_count": 1,
   "id": "d8f80371-e22a-4b8c-b93d-2b85c99731dd",
   "metadata": {},
   "outputs": [
    {
     "name": "stdout",
     "output_type": "stream",
     "text": [
      "bitcoin_price_1week_Test - Test.csv\n",
      "bitcoin_price_Training - Training.csv\n",
      "\n"
     ]
    }
   ],
   "source": [
    "import numpy as np\n",
    "import pandas as pd \n",
    "import matplotlib.pyplot as plt\n",
    "%matplotlib inline\n",
    "import seaborn as sns; sns.set()\n",
    "\n",
    "\n",
    "from subprocess import check_output\n",
    "print(check_output([\"ls\",\"bitcoin\"]).decode(\"utf8\"))"
   ]
  },
  {
   "cell_type": "code",
   "execution_count": 2,
   "id": "a4baa9d2-54cd-49a8-a7ce-072eff67b51b",
   "metadata": {},
   "outputs": [
    {
     "name": "stdout",
     "output_type": "stream",
     "text": [
      "Defaulting to user installation because normal site-packages is not writeable\n",
      "Requirement already satisfied: scikit-learn-intelex in ./.local/lib/python3.9/site-packages (2023.2.1)\n",
      "Requirement already satisfied: daal4py==2023.2.1 in ./.local/lib/python3.9/site-packages (from scikit-learn-intelex) (2023.2.1)\n",
      "Requirement already satisfied: scikit-learn>=0.22 in /glob/development-tools/versions/oneapi/2023.2.0.1/oneapi/tensorflow/2.13.0/lib/python3.9/site-packages (from scikit-learn-intelex) (1.2.2)\n",
      "Requirement already satisfied: daal==2023.2.1 in ./.local/lib/python3.9/site-packages (from daal4py==2023.2.1->scikit-learn-intelex) (2023.2.1)\n",
      "Requirement already satisfied: numpy>=1.19 in /glob/development-tools/versions/oneapi/2023.2.0.1/oneapi/tensorflow/2.13.0/lib/python3.9/site-packages (from daal4py==2023.2.1->scikit-learn-intelex) (1.24.3)\n",
      "Requirement already satisfied: tbb==2021.* in ./.local/lib/python3.9/site-packages (from daal==2023.2.1->daal4py==2023.2.1->scikit-learn-intelex) (2021.10.0)\n",
      "Requirement already satisfied: scipy>=1.3.2 in /glob/development-tools/versions/oneapi/2023.2.0.1/oneapi/tensorflow/2.13.0/lib/python3.9/site-packages (from scikit-learn>=0.22->scikit-learn-intelex) (1.10.1)\n",
      "Requirement already satisfied: joblib>=1.1.1 in /glob/development-tools/versions/oneapi/2023.2.0.1/oneapi/tensorflow/2.13.0/lib/python3.9/site-packages (from scikit-learn>=0.22->scikit-learn-intelex) (1.2.0)\n",
      "Requirement already satisfied: threadpoolctl>=2.0.0 in /glob/development-tools/versions/oneapi/2023.2.0.1/oneapi/tensorflow/2.13.0/lib/python3.9/site-packages (from scikit-learn>=0.22->scikit-learn-intelex) (3.1.0)\n",
      "Note: you may need to restart the kernel to use updated packages.\n"
     ]
    }
   ],
   "source": [
    "pip install scikit-learn-intelex"
   ]
  },
  {
   "cell_type": "code",
   "execution_count": 3,
   "id": "e6c01f35-bc8f-4b10-b61d-abb8bfc7c92d",
   "metadata": {},
   "outputs": [],
   "source": [
    "train = pd.read_csv(\"bitcoin/bitcoin_price_Training - Training.csv\")\n",
    "test = pd.read_csv(\"bitcoin/bitcoin_price_1week_Test - Test.csv\")"
   ]
  },
  {
   "cell_type": "code",
   "execution_count": 4,
   "id": "07a6bec8-b0b2-4052-a112-e4a2c2f73390",
   "metadata": {},
   "outputs": [],
   "source": [
    "train = train[::-1]\n",
    "test = test[::-1]"
   ]
  },
  {
   "cell_type": "code",
   "execution_count": 5,
   "id": "a0bdcb7c-7043-41a5-bdcc-d11baaf496fa",
   "metadata": {},
   "outputs": [
    {
     "data": {
      "text/html": [
       "<div>\n",
       "<style scoped>\n",
       "    .dataframe tbody tr th:only-of-type {\n",
       "        vertical-align: middle;\n",
       "    }\n",
       "\n",
       "    .dataframe tbody tr th {\n",
       "        vertical-align: top;\n",
       "    }\n",
       "\n",
       "    .dataframe thead th {\n",
       "        text-align: right;\n",
       "    }\n",
       "</style>\n",
       "<table border=\"1\" class=\"dataframe\">\n",
       "  <thead>\n",
       "    <tr style=\"text-align: right;\">\n",
       "      <th></th>\n",
       "      <th>Date</th>\n",
       "      <th>Open</th>\n",
       "      <th>High</th>\n",
       "      <th>Low</th>\n",
       "      <th>Close</th>\n",
       "      <th>Volume</th>\n",
       "      <th>Market Cap</th>\n",
       "    </tr>\n",
       "  </thead>\n",
       "  <tbody>\n",
       "    <tr>\n",
       "      <th>1555</th>\n",
       "      <td>Apr 28, 2013</td>\n",
       "      <td>135.30</td>\n",
       "      <td>135.98</td>\n",
       "      <td>132.10</td>\n",
       "      <td>134.21</td>\n",
       "      <td>-</td>\n",
       "      <td>1,500,520,000</td>\n",
       "    </tr>\n",
       "    <tr>\n",
       "      <th>1554</th>\n",
       "      <td>Apr 29, 2013</td>\n",
       "      <td>134.44</td>\n",
       "      <td>147.49</td>\n",
       "      <td>134.00</td>\n",
       "      <td>144.54</td>\n",
       "      <td>-</td>\n",
       "      <td>1,491,160,000</td>\n",
       "    </tr>\n",
       "    <tr>\n",
       "      <th>1553</th>\n",
       "      <td>Apr 30, 2013</td>\n",
       "      <td>144.00</td>\n",
       "      <td>146.93</td>\n",
       "      <td>134.05</td>\n",
       "      <td>139.00</td>\n",
       "      <td>-</td>\n",
       "      <td>1,597,780,000</td>\n",
       "    </tr>\n",
       "    <tr>\n",
       "      <th>1552</th>\n",
       "      <td>May 01, 2013</td>\n",
       "      <td>139.00</td>\n",
       "      <td>139.89</td>\n",
       "      <td>107.72</td>\n",
       "      <td>116.99</td>\n",
       "      <td>-</td>\n",
       "      <td>1,542,820,000</td>\n",
       "    </tr>\n",
       "    <tr>\n",
       "      <th>1551</th>\n",
       "      <td>May 02, 2013</td>\n",
       "      <td>116.38</td>\n",
       "      <td>125.60</td>\n",
       "      <td>92.28</td>\n",
       "      <td>105.21</td>\n",
       "      <td>-</td>\n",
       "      <td>1,292,190,000</td>\n",
       "    </tr>\n",
       "  </tbody>\n",
       "</table>\n",
       "</div>"
      ],
      "text/plain": [
       "              Date    Open    High     Low   Close Volume     Market Cap\n",
       "1555  Apr 28, 2013  135.30  135.98  132.10  134.21      -  1,500,520,000\n",
       "1554  Apr 29, 2013  134.44  147.49  134.00  144.54      -  1,491,160,000\n",
       "1553  Apr 30, 2013  144.00  146.93  134.05  139.00      -  1,597,780,000\n",
       "1552  May 01, 2013  139.00  139.89  107.72  116.99      -  1,542,820,000\n",
       "1551  May 02, 2013  116.38  125.60   92.28  105.21      -  1,292,190,000"
      ]
     },
     "execution_count": 5,
     "metadata": {},
     "output_type": "execute_result"
    }
   ],
   "source": [
    "train.head()"
   ]
  },
  {
   "cell_type": "code",
   "execution_count": 6,
   "id": "bba2a2e3-ec19-49e6-8ba2-735a299a7619",
   "metadata": {},
   "outputs": [],
   "source": [
    "train = train['Close'].values.astype('float32')\n",
    "test = test['Close'].values.astype('float32')"
   ]
  },
  {
   "cell_type": "code",
   "execution_count": 7,
   "id": "8bbdfd70-7fb7-444f-bfed-e7d9dc9cb871",
   "metadata": {},
   "outputs": [
    {
     "name": "stderr",
     "output_type": "stream",
     "text": [
      "Intel(R) Extension for Scikit-learn* enabled (https://github.com/intel/scikit-learn-intelex)\n"
     ]
    }
   ],
   "source": [
    "from sklearn.preprocessing import StandardScaler\n",
    "from sklearnex import patch_sklearn\n",
    "patch_sklearn()"
   ]
  },
  {
   "cell_type": "code",
   "execution_count": 8,
   "id": "6bafc04e-e78d-4b4f-a665-0f148b1fe45a",
   "metadata": {},
   "outputs": [],
   "source": [
    "train = train.reshape(-1, 1)\n",
    "test = test.reshape(-1, 1)\n",
    "\n",
    "scaler = StandardScaler()\n",
    "train_n = scaler.fit_transform(train)\n",
    "test_n = scaler.transform(test)"
   ]
  },
  {
   "cell_type": "code",
   "execution_count": 9,
   "id": "2ef33bbc-d2e0-4740-b9d4-9fbc065b96d5",
   "metadata": {},
   "outputs": [
    {
     "name": "stdout",
     "output_type": "stream",
     "text": [
      "(1556, 1)\n",
      "(7, 1)\n"
     ]
    }
   ],
   "source": [
    "print(train_n.shape)\n",
    "print(test_n.shape)"
   ]
  },
  {
   "cell_type": "code",
   "execution_count": 10,
   "id": "ad663787-9b35-4c2d-a45e-5a9e27ac05f2",
   "metadata": {},
   "outputs": [],
   "source": [
    "def generator(data, lookback, delay, min_index, max_index, \n",
    "              shuffle=False, batch_size=128, step=1):\n",
    "    if max_index is None:\n",
    "        max_index = len(data) - delay - 1\n",
    "    i = min_index + lookback\n",
    "    while 1:\n",
    "        if shuffle:\n",
    "            rows = np.random.randint(min_index + lookback, max_index, size=batch_size)\n",
    "        else:\n",
    "            if i + batch_size >= max_index:\n",
    "                i = min_index + lookback\n",
    "                \n",
    "            rows = np.arange(i, min(i + batch_size, max_index))\n",
    "            i += len(rows)\n",
    "        samples = np.zeros((len(rows), lookback // step, data.shape[-1]))\n",
    "        targets = np.zeros((len(rows),))\n",
    "        for j, row in enumerate(rows):\n",
    "            indices = range(rows[j] - lookback, rows[j], step)\n",
    "            samples[j] = data[indices]\n",
    "            targets[j] = data[rows[j] + delay]\n",
    "        yield samples, targets"
   ]
  },
  {
   "cell_type": "code",
   "execution_count": 11,
   "id": "72ebbc81-5f78-43ea-9529-427f0f0e985a",
   "metadata": {},
   "outputs": [],
   "source": [
    "lookback = 24\n",
    "step = 1\n",
    "delay = 7\n",
    "batch_size = 128\n",
    "train_gen = generator(train_n, lookback=lookback, delay=delay,\n",
    "    min_index=0, max_index=1000, shuffle=True, step=step,\n",
    "batch_size=batch_size)\n",
    "val_gen = generator(train_n, lookback=lookback, delay=delay,\n",
    "    min_index=1001, max_index=None, step=step, batch_size=batch_size)\n",
    "test_gen = generator(test_n, lookback=lookback, delay=delay,\n",
    "    min_index=0, max_index=None, step=step, batch_size=batch_size)\n",
    "val_steps = (len(train_n) - 1001 - lookback) // batch_size\n",
    "test_steps = (len(test_n) - lookback) // batch_size\n"
   ]
  },
  {
   "cell_type": "code",
   "execution_count": 12,
   "id": "f0e36d43-fbff-4bab-a367-28d536aeec00",
   "metadata": {},
   "outputs": [],
   "source": [
    "np.random.seed(7)"
   ]
  },
  {
   "cell_type": "code",
   "execution_count": 13,
   "id": "d1cf372b-983f-4dfb-a037-2622139d591d",
   "metadata": {},
   "outputs": [
    {
     "name": "stderr",
     "output_type": "stream",
     "text": [
      "2023-09-14 06:44:46.988500: I tensorflow/core/platform/cpu_feature_guard.cc:182] This TensorFlow binary is optimized to use available CPU instructions in performance-critical operations.\n",
      "To enable the following instructions: AVX2 AVX512F FMA, in other operations, rebuild TensorFlow with the appropriate compiler flags.\n"
     ]
    }
   ],
   "source": [
    "from keras.models import Sequential\n",
    "from keras import layers\n",
    "from keras.optimizers import RMSprop"
   ]
  },
  {
   "cell_type": "code",
   "execution_count": 14,
   "id": "e33e18ae-da87-4c7c-b42d-c3b751c20444",
   "metadata": {},
   "outputs": [
    {
     "name": "stderr",
     "output_type": "stream",
     "text": [
      "2023-09-14 06:45:04.377834: I tensorflow/core/common_runtime/process_util.cc:146] Creating new thread pool with default inter op setting: 2. Tune using inter_op_parallelism_threads for best performance.\n"
     ]
    },
    {
     "name": "stdout",
     "output_type": "stream",
     "text": [
      "Model: \"sequential\"\n",
      "_________________________________________________________________\n",
      " Layer (type)                Output Shape              Param #   \n",
      "=================================================================\n",
      " gru (GRU)                   (None, 32)                3360      \n",
      "                                                                 \n",
      " dense (Dense)               (None, 1)                 33        \n",
      "                                                                 \n",
      "=================================================================\n",
      "Total params: 3393 (13.25 KB)\n",
      "Trainable params: 3393 (13.25 KB)\n",
      "Non-trainable params: 0 (0.00 Byte)\n",
      "_________________________________________________________________\n"
     ]
    }
   ],
   "source": [
    "model = Sequential()\n",
    "model.add(layers.GRU(32,\n",
    "                     dropout=0.2,\n",
    "                     recurrent_dropout=0.2,\n",
    "                     input_shape=(None, train_n.shape[-1])))\n",
    "model.add(layers.Dense(1))\n",
    "model.compile(optimizer=RMSprop(), loss='mae')\n",
    "model.summary()"
   ]
  },
  {
   "cell_type": "code",
   "execution_count": 15,
   "id": "f17fd0f0-8ee7-4ac5-84d2-af2ce91854f3",
   "metadata": {},
   "outputs": [
    {
     "name": "stderr",
     "output_type": "stream",
     "text": [
      "/home/u202094/tmp/ipykernel_2476692/4276881377.py:1: UserWarning: `Model.fit_generator` is deprecated and will be removed in a future version. Please use `Model.fit`, which supports generators.\n",
      "  history = model.fit_generator(train_gen,\n"
     ]
    },
    {
     "name": "stdout",
     "output_type": "stream",
     "text": [
      "Epoch 1/20\n",
      "100/100 [==============================] - 14s 110ms/step - loss: 0.2114 - val_loss: 0.4883\n",
      "Epoch 2/20\n",
      "100/100 [==============================] - 10s 95ms/step - loss: 0.1097 - val_loss: 0.4595\n",
      "Epoch 3/20\n",
      "100/100 [==============================] - 9s 94ms/step - loss: 0.1069 - val_loss: 0.4555\n",
      "Epoch 4/20\n",
      "100/100 [==============================] - 10s 102ms/step - loss: 0.1055 - val_loss: 0.4644\n",
      "Epoch 5/20\n",
      "100/100 [==============================] - 9s 90ms/step - loss: 0.1048 - val_loss: 0.4721\n",
      "Epoch 6/20\n",
      "100/100 [==============================] - 10s 97ms/step - loss: 0.1038 - val_loss: 0.4649\n",
      "Epoch 7/20\n",
      "100/100 [==============================] - 10s 100ms/step - loss: 0.1030 - val_loss: 0.4577\n",
      "Epoch 8/20\n",
      "100/100 [==============================] - 10s 99ms/step - loss: 0.1013 - val_loss: 0.4486\n",
      "Epoch 9/20\n",
      "100/100 [==============================] - 10s 103ms/step - loss: 0.1004 - val_loss: 0.4161\n",
      "Epoch 10/20\n",
      "100/100 [==============================] - 11s 111ms/step - loss: 0.1010 - val_loss: 0.4567\n",
      "Epoch 11/20\n",
      "100/100 [==============================] - 10s 104ms/step - loss: 0.1000 - val_loss: 0.4437\n",
      "Epoch 12/20\n",
      "100/100 [==============================] - 11s 110ms/step - loss: 0.0979 - val_loss: 0.4341\n",
      "Epoch 13/20\n",
      "100/100 [==============================] - 10s 96ms/step - loss: 0.0983 - val_loss: 0.4366\n",
      "Epoch 14/20\n",
      "100/100 [==============================] - 10s 96ms/step - loss: 0.0982 - val_loss: 0.4431\n",
      "Epoch 15/20\n",
      "100/100 [==============================] - 11s 107ms/step - loss: 0.0985 - val_loss: 0.4489\n",
      "Epoch 16/20\n",
      "100/100 [==============================] - 11s 109ms/step - loss: 0.0970 - val_loss: 0.4359\n",
      "Epoch 17/20\n",
      "100/100 [==============================] - 12s 115ms/step - loss: 0.0974 - val_loss: 0.4272\n",
      "Epoch 18/20\n",
      "100/100 [==============================] - 11s 106ms/step - loss: 0.0988 - val_loss: 0.4443\n",
      "Epoch 19/20\n",
      "100/100 [==============================] - 9s 95ms/step - loss: 0.0972 - val_loss: 0.4337\n",
      "Epoch 20/20\n",
      "100/100 [==============================] - 10s 101ms/step - loss: 0.0952 - val_loss: 0.4622\n"
     ]
    }
   ],
   "source": [
    "history = model.fit_generator(train_gen,\n",
    "                              steps_per_epoch=100,\n",
    "                              epochs=20,\n",
    "                              validation_data=val_gen,\n",
    "                              validation_steps=val_steps)"
   ]
  },
  {
   "cell_type": "code",
   "execution_count": 16,
   "id": "5ab08fff-d124-4768-a4de-83a797f80975",
   "metadata": {},
   "outputs": [
    {
     "data": {
      "text/plain": [
       "<matplotlib.legend.Legend at 0x7ff6c00f6880>"
      ]
     },
     "execution_count": 16,
     "metadata": {},
     "output_type": "execute_result"
    },
    {
     "data": {
      "image/png": "[encoded data removed]",
      "text/plain": [
       "<Figure size 640x480 with 1 Axes>"
      ]
     },
     "metadata": {},
     "output_type": "display_data"
    }
   ],
   "source": [
    "loss = history.history['loss']\n",
    "val_loss = history.history['val_loss']\n",
    "epochs = range(len(loss))\n",
    "plt.figure()\n",
    "plt.plot(epochs, loss, 'blue', label='train data loss')\n",
    "plt.plot(epochs, val_loss, 'red', label='test data loss')\n",
    "plt.title('Training and validation data loss predection')\n",
    "plt.legend()"
   ]
  },
  {
   "cell_type": "code",
   "execution_count": 17,
   "id": "d647e4f7-e91e-419f-a282-ddf956730748",
   "metadata": {},
   "outputs": [
    {
     "name": "stdout",
     "output_type": "stream",
     "text": [
      "49/49 [==============================] - 1s 5ms/step\n"
     ]
    }
   ],
   "source": [
    "train_re = train_n.reshape(-1,1,1)\n",
    "pred = model.predict(train_re)"
   ]
  },
  {
   "cell_type": "code",
   "execution_count": 18,
   "id": "2e5bf9d3-c67e-4c95-9a1c-4b292ef1dc4d",
   "metadata": {},
   "outputs": [],
   "source": [
    "pred = scaler.inverse_transform(pred)"
   ]
  },
  {
   "cell_type": "code",
   "execution_count": 19,
   "id": "760ed7db-6f18-4963-8d94-12809fe4edd3",
   "metadata": {},
   "outputs": [
    {
     "data": {
      "text/plain": [
       "Text(0.5, 1.0, 'Prediction on bitcoin data')"
      ]
     },
     "execution_count": 19,
     "metadata": {},
     "output_type": "execute_result"
    },
    {
     "data": {
      "image/png": "[encoded data removed]",
      "text/plain": [
       "<Figure size 640x480 with 1 Axes>"
      ]
     },
     "metadata": {},
     "output_type": "display_data"
    }
   ],
   "source": [
    "plt.plot(range(len(train_re)), train, label='train')\n",
    "plt.plot(range(len(train_re)), pred, label='prediction')\n",
    "plt.legend()\n",
    "\n",
    "plt.title(\"Prediction on bitcoin data\")"
   ]
  },
  {
   "cell_type": "code",
   "execution_count": null,
   "id": "f83fb6fd-eafb-44bd-9300-f9c7de2546ed",
   "metadata": {},
   "outputs": [],
   "source": []
  }
 ],
 "metadata": {
  "kernelspec": {
   "display_name": "Tensorflow (AI kit)",
   "language": "python",
   "name": "c009-intel_distribution_of_python_3_oneapi-beta05-tf"
  },
  "language_info": {
   "codemirror_mode": {
    "name": "ipython",
    "version": 3
   },
   "file_extension": ".py",
   "mimetype": "text/x-python",
   "name": "python",
   "nbconvert_exporter": "python",
   "pygments_lexer": "ipython3",
   "version": "3.9.16"
  }
 },
 "nbformat": 4,
 "nbformat_minor": 5
}
